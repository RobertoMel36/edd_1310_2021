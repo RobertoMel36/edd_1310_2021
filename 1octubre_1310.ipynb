{
  "nbformat": 4,
  "nbformat_minor": 0,
  "metadata": {
    "colab": {
      "name": "1octubre_1310.ipynb",
      "provenance": [],
      "authorship_tag": "ABX9TyPGoglvlQ/jMV2DKHjZCzgF",
      "include_colab_link": true
    },
    "kernelspec": {
      "name": "python3",
      "display_name": "Python 3"
    }
  },
  "cells": [
    {
      "cell_type": "markdown",
      "metadata": {
        "id": "view-in-github",
        "colab_type": "text"
      },
      "source": [
        "<a href=\"https://colab.research.google.com/github/RobertoMel36/edd_1310_2021/blob/master/1octubre_1310.ipynb\" target=\"_parent\"><img src=\"https://colab.research.google.com/assets/colab-badge.svg\" alt=\"Open In Colab\"/></a>"
      ]
    },
    {
      "cell_type": "markdown",
      "metadata": {
        "id": "iXSSf5nY7zx4"
      },
      "source": [
        "## Intro Python 3\n",
        "### Variables\n",
        "tipo dinamico\n",
        "\n",
        "'escuela = \"FES Aragón\""
      ]
    },
    {
      "cell_type": "code",
      "metadata": {
        "id": "untRMEEy8Csn",
        "outputId": "d3a265a6-9da1-4db8-f0e5-b3a4a86591a7",
        "colab": {
          "base_uri": "https://localhost:8080/",
          "height": 187
        }
      },
      "source": [
        "escuela = \"FES Aragón\"\n",
        "print(escuela)\n",
        "print(\"------\")\n",
        "edad= 13\n",
        "estatura= 1.67\n",
        "fumador= True\n",
        "frase= \"\"\"\n",
        "Estas es \n",
        "una \n",
        "frase\n",
        "de multiples lineas\n",
        "y tambien es\n",
        "un tipo de dato\n",
        "\"\"\"\n",
        "print(frase)\n",
        "nombre= 'Jose'\n",
        "nombre_completo= \"Jose Sosa Cardenas\"  "
      ],
      "execution_count": 3,
      "outputs": [
        {
          "output_type": "stream",
          "text": [
            "FES Aragón\n",
            "------\n",
            "\n",
            "Estas es \n",
            "una \n",
            "frase\n",
            "de multiples lineas\n",
            "y tambien es\n",
            "un tipo de dato\n",
            "\n"
          ],
          "name": "stdout"
        }
      ]
    },
    {
      "cell_type": "markdown",
      "metadata": {
        "id": "X6zCRiQB96JH"
      },
      "source": [
        "#Print\n",
        "con comas ,\n",
        "\n",
        "con signo mas +\n",
        "\n",
        "con format ()\n",
        "\n",
        "con el operador f\""
      ]
    },
    {
      "cell_type": "code",
      "metadata": {
        "id": "-JuQ4bob-LNT",
        "outputId": "56c5d5b8-96cb-4add-92a1-cb9f499c3835",
        "colab": {
          "base_uri": "https://localhost:8080/",
          "height": 34
        }
      },
      "source": [
        "#La coma da un espacio\n",
        "print(nombre,edad)"
      ],
      "execution_count": 4,
      "outputs": [
        {
          "output_type": "stream",
          "text": [
            "Jose 13\n"
          ],
          "name": "stdout"
        }
      ]
    },
    {
      "cell_type": "code",
      "metadata": {
        "id": "BDVKhtFZ_St-",
        "outputId": "463fbcca-fc22-4121-e140-282f5e14460c",
        "colab": {
          "base_uri": "https://localhost:8080/",
          "height": 51
        }
      },
      "source": [
        "#+ concantena\n",
        "print(nombre + str(edad))\n",
        "print(nombre+nombre_completo)"
      ],
      "execution_count": 5,
      "outputs": [
        {
          "output_type": "stream",
          "text": [
            "Jose13\n",
            "JoseJose Sosa Cardenas\n"
          ],
          "name": "stdout"
        }
      ]
    },
    {
      "cell_type": "code",
      "metadata": {
        "id": "2LFMrL4AANUr",
        "outputId": "b52a067d-9ce3-4727-bad5-290c1ab10d31",
        "colab": {
          "base_uri": "https://localhost:8080/",
          "height": 68
        }
      },
      "source": [
        "#con Formato\n",
        "print(\"Su nombre es\",nombre,\"y su edad es de\",edad,\"años.\")\n",
        "print( \"Su nombre es {0} y su edad es de {1} años\".format(nombre,edad) )\n",
        "print(\"Su nombre es{1} y su edad es de{0} años\".format(nombre,edad))"
      ],
      "execution_count": 10,
      "outputs": [
        {
          "output_type": "stream",
          "text": [
            "Su nombre es Jose y su edad es de 13 años.\n",
            "Su nombre es Jose y su edad es de 13 años\n",
            "Su nombre es13 y su edad es deJose años\n"
          ],
          "name": "stdout"
        }
      ]
    },
    {
      "cell_type": "code",
      "metadata": {
        "id": "1eNlZdQcB5pn",
        "outputId": "e1f5af96-9ece-48d6-cefb-8f0bb253061a",
        "colab": {
          "base_uri": "https://localhost:8080/",
          "height": 34
        }
      },
      "source": [
        "#Con formato con el operador f\"\"\n",
        "print(f\"Su nombre es {nombre} y su edad es de {edad} años.\")"
      ],
      "execution_count": 13,
      "outputs": [
        {
          "output_type": "stream",
          "text": [
            "Su nombre es Jose y su edad es de 13 años.\n"
          ],
          "name": "stdout"
        }
      ]
    },
    {
      "cell_type": "markdown",
      "metadata": {
        "id": "cES0ye2OCsOw"
      },
      "source": [
        "##Caracter de escape\n",
        "\\n salto de linea\n",
        "\n",
        "\\t tabulador\n",
        "\n",
        "\\a beep\n",
        "\n",
        "\\\\\" imprimir comilla doble\n",
        "\n",
        "\\' imprimir comilla simple\n"
      ]
    },
    {
      "cell_type": "code",
      "metadata": {
        "id": "RBlm-xJpDDRm",
        "outputId": "93ed5dbb-7734-4ad6-e0aa-b93b4f76a6b7",
        "colab": {
          "base_uri": "https://localhost:8080/",
          "height": 51
        }
      },
      "source": [
        "\"\"\"\n",
        "Esto es \n",
        "un comentario\n",
        "de multiple linea\n",
        "tan tan\n",
        "\"\"\"\n",
        "print(f\"\\tMi nombre es\\n\\t\\t {nombre}\")"
      ],
      "execution_count": 14,
      "outputs": [
        {
          "output_type": "stream",
          "text": [
            "\tMi nombre es\n",
            "\t\t Jose\n"
          ],
          "name": "stdout"
        }
      ]
    },
    {
      "cell_type": "markdown",
      "metadata": {
        "id": "-f48iEuuDmbj"
      },
      "source": [
        "# Ayuda de tipos de datos en python\n",
        "dir()\n",
        "\n",
        "help()"
      ]
    },
    {
      "cell_type": "code",
      "metadata": {
        "id": "QEmAORSJEKDT"
      },
      "source": [
        "# str, int, float, bool...list, dict, set\n",
        "dir(str)\n",
        "help(str)"
      ],
      "execution_count": null,
      "outputs": []
    },
    {
      "cell_type": "code",
      "metadata": {
        "id": "tdZyVBXCFNtE",
        "outputId": "522debbe-1487-411a-af2d-712b954a254b",
        "colab": {
          "base_uri": "https://localhost:8080/",
          "height": 51
        }
      },
      "source": [
        "print(nombre_completo.capitalize() )\n",
        "print(nombre_completo.upper(), end=\"-----\" )\n",
        "print(nombre_completo.title() )\n"
      ],
      "execution_count": 18,
      "outputs": [
        {
          "output_type": "stream",
          "text": [
            "Jose sosa cardenas\n",
            "JOSE SOSA CARDENAS-----Jose Sosa Cardenas\n"
          ],
          "name": "stdout"
        }
      ]
    },
    {
      "cell_type": "code",
      "metadata": {
        "id": "vcyVDNwdGl7W"
      },
      "source": [
        "help(print)"
      ],
      "execution_count": null,
      "outputs": []
    },
    {
      "cell_type": "markdown",
      "metadata": {
        "id": "0spRlHVJGxWx"
      },
      "source": [
        "# Clase String\n",
        "Es manejada como un arreglo(c o java) o lista(python) \n",
        "\n",
        "telefono = \"Huawei mate 30 pro\"\n"
      ]
    },
    {
      "cell_type": "code",
      "metadata": {
        "id": "m78_bihkG557",
        "outputId": "339be339-ced2-47f6-ab7d-aa592fbd1db1",
        "colab": {
          "base_uri": "https://localhost:8080/",
          "height": 34
        }
      },
      "source": [
        "telefono= \"Huawei mate 30 pro\"\n",
        "print(telefono[5])"
      ],
      "execution_count": 20,
      "outputs": [
        {
          "output_type": "stream",
          "text": [
            "i\n"
          ],
          "name": "stdout"
        }
      ]
    },
    {
      "cell_type": "markdown",
      "metadata": {
        "id": "1OAb6rNvIIME"
      },
      "source": [
        "# Slicing (rebanado)\n",
        "[inicio:stop:incremento]\n",
        "nota: el stop no se incluye, termina en el valor anterior al stop\n"
      ]
    },
    {
      "cell_type": "code",
      "metadata": {
        "id": "s_UN4yFwIatI",
        "outputId": "699e9025-95b1-4cf5-8569-b0e2aa8a4230",
        "colab": {
          "base_uri": "https://localhost:8080/",
          "height": 102
        }
      },
      "source": [
        "print(telefono[7:11:1])\n",
        "#El inicio y el incremento son opcionales\n",
        "print(telefono[:11:])\n",
        "#El valor por defecto de stop es len(str)\n",
        "print(telefono[::])\n",
        "#incrmento negativo\n",
        "print(telefono[::-1])\n",
        "#slacing negativo\n",
        "print(telefono[-3::1])\n",
        "#Otra forma\n",
        "ini= -3\n",
        "inc=1\n",
        "print(telefono[ini::inc])"
      ],
      "execution_count": 23,
      "outputs": [
        {
          "output_type": "stream",
          "text": [
            "mate\n",
            "Huawei mate\n",
            "Huawei mate 30 pro\n",
            "orp 03 etam iewauH\n",
            "pro\n"
          ],
          "name": "stdout"
        }
      ]
    },
    {
      "cell_type": "markdown",
      "metadata": {
        "id": "UkbvW-5jNKQw"
      },
      "source": [
        "#Metodos de String (str)\n",
        "Existen metodos muy utiles en esta clase. "
      ]
    },
    {
      "cell_type": "code",
      "metadata": {
        "id": "eShFdk8pNWLR"
      },
      "source": [
        "#Count es para contar el numero de elementos\n",
        "Facultad= \"    facultad de estudios superiores aragon      \\n\"\n",
        "print(Facultad.count(\"u\"))\n",
        "#Find para encontrar algun elemento\n",
        "print(Facultad.find(\"s\"))\n",
        "#Strip quita espacios y saltos de linea, pero unicamnete al inicio y al final\n",
        "print(Facultad.strip())\n",
        "tamaño=len(Facultad)\n",
        "print(len(Facultad))\n",
        "print(f\"tamaño de la cadena es {tamaño} caracteres\")\n",
        "print(Facultad)\n",
        "print(Facultad.strip().split(\" \"))\n",
        "\n",
        "print(\"-------\")\n",
        "#copiar cadenas\n",
        "otra_cadena= Facultad\n",
        "print(otra_cadena)\n",
        "Facultad= \"FES Aragón\"\n",
        "print(Facultad)\n",
        "print(otra_cadena)\n",
        "\n",
        "#copiar listas\n",
        "colores = [\"rojo\", \"verde\"]\n",
        "otra= colores\n",
        "print(colores)\n",
        "print(otra)\n",
        "otra.append(\"rosa\")\n",
        "print(colores)\n",
        "print(otra)\n"
      ],
      "execution_count": null,
      "outputs": []
    }
  ]
}