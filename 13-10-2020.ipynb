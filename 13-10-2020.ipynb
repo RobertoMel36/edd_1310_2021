{
  "nbformat": 4,
  "nbformat_minor": 0,
  "metadata": {
    "colab": {
      "name": "13-10-2020.ipynb",
      "provenance": [],
      "authorship_tag": "ABX9TyM7UXlBXg4Dlain+6XPhD0g",
      "include_colab_link": true
    },
    "kernelspec": {
      "name": "python3",
      "display_name": "Python 3"
    }
  },
  "cells": [
    {
      "cell_type": "markdown",
      "metadata": {
        "id": "view-in-github",
        "colab_type": "text"
      },
      "source": [
        "<a href=\"https://colab.research.google.com/github/RobertoMel36/edd_1310_2021/blob/master/13-10-2020.ipynb\" target=\"_parent\"><img src=\"https://colab.research.google.com/assets/colab-badge.svg\" alt=\"Open In Colab\"/></a>"
      ]
    },
    {
      "cell_type": "code",
      "metadata": {
        "id": "153B2ZZJuqcl",
        "outputId": "60d956cc-2ba7-46c5-8c58-dc289c984cc5",
        "colab": {
          "base_uri": "https://localhost:8080/",
          "height": 105
        }
      },
      "source": [
        "alumno = { \n",
        "          \"num_cta\" : 303030303 ,\n",
        "          \"carrera\" : \"ICO\",\n",
        "          \"promedio\" : 9.8,\n",
        "          \"materias\" :[\"EDD\",\"CyP\",\"Calidad\",\"Emprendimiento\"],\n",
        "          \"direccion\" : { \n",
        "                            \"calle\":\"rancho seco\",\n",
        "                            \"numero\" : 23 ,\n",
        "                            \"delegacion\" : \"Neza\",\n",
        "                            \"estado\" : {\n",
        "                                        \"id\" : 15 ,\n",
        "                                        \"nombre\" : \"Estado de Máxico\" ,\n",
        "                                        \"nombre_corto\" : \"EdoMex\"\n",
        "                                        } ,\n",
        "                            \"CP\":57170\n",
        "\n",
        "                        } \n",
        "          }\n",
        "print(alumno)\n",
        "alumno['carrera'] =\"Ingeniería en computación\"\n",
        "print(alumno)\n",
        "alumno['nombre_completo']={'primer': \"Juan\",\n",
        "                           'segundo': \"Pedro\",\n",
        "                           \"materno\": \"Perez\",\n",
        "                           \"paterno\": \"Gomez\"\n",
        "                           }\n",
        "alumno['semestre']=3\n",
        "print(alumno)\n",
        "\n",
        "print(f\"{alumno['nombre_completo']['primer']} {alumno['nombre_completo']['segundo']}\")"
      ],
      "execution_count": 7,
      "outputs": [
        {
          "output_type": "stream",
          "text": [
            "{'num_cta': 303030303, 'carrera': 'ICO', 'promedio': 9.8, 'materias': ['EDD', 'CyP', 'Calidad', 'Emprendimiento'], 'direccion': {'calle': 'rancho seco', 'numero': 23, 'delegacion': 'Neza', 'estado': {'id': 15, 'nombre': 'Estado de Máxico', 'nombre_corto': 'EdoMex'}, 'CP': 57170}}\n",
            "{'num_cta': 303030303, 'carrera': 'Ingeniería en computación', 'promedio': 9.8, 'materias': ['EDD', 'CyP', 'Calidad', 'Emprendimiento'], 'direccion': {'calle': 'rancho seco', 'numero': 23, 'delegacion': 'Neza', 'estado': {'id': 15, 'nombre': 'Estado de Máxico', 'nombre_corto': 'EdoMex'}, 'CP': 57170}}\n",
            "{'num_cta': 303030303, 'carrera': 'Ingeniería en computación', 'promedio': 9.8, 'materias': ['EDD', 'CyP', 'Calidad', 'Emprendimiento'], 'direccion': {'calle': 'rancho seco', 'numero': 23, 'delegacion': 'Neza', 'estado': {'id': 15, 'nombre': 'Estado de Máxico', 'nombre_corto': 'EdoMex'}, 'CP': 57170}, 'nombre_completo': {'primer': 'Juan', 'segundo': 'Pedro', 'materno': 'Perez', 'paterno': 'Gomez'}, 'semestre': 3}\n",
            "Juan Pedro\n"
          ],
          "name": "stdout"
        }
      ]
    },
    {
      "cell_type": "code",
      "metadata": {
        "id": "ZcQSsvCMy5pD",
        "outputId": "0242128f-8041-4394-ce83-0e9b3d20cc27",
        "colab": {
          "base_uri": "https://localhost:8080/",
          "height": 428
        }
      },
      "source": [
        "#Key(), values () y items()\n",
        "\n",
        "llaves= alumno.keys()\n",
        "print (llaves)\n",
        "for llave in llaves:\n",
        "    print(llave.upper())\n",
        "\n",
        "valores = alumno.values()\n",
        "for val in valores:\n",
        "  print(val)\n",
        "\n",
        "pares=alumno.items()\n",
        "print(pares)\n",
        "for elem in pares:\n",
        "    print(f\"el campo {elem[0]} tiene el valor {elem[1]}\")\n"
      ],
      "execution_count": 8,
      "outputs": [
        {
          "output_type": "stream",
          "text": [
            "dict_keys(['num_cta', 'carrera', 'promedio', 'materias', 'direccion', 'nombre_completo', 'semestre'])\n",
            "NUM_CTA\n",
            "CARRERA\n",
            "PROMEDIO\n",
            "MATERIAS\n",
            "DIRECCION\n",
            "NOMBRE_COMPLETO\n",
            "SEMESTRE\n",
            "303030303\n",
            "Ingeniería en computación\n",
            "9.8\n",
            "['EDD', 'CyP', 'Calidad', 'Emprendimiento']\n",
            "{'calle': 'rancho seco', 'numero': 23, 'delegacion': 'Neza', 'estado': {'id': 15, 'nombre': 'Estado de Máxico', 'nombre_corto': 'EdoMex'}, 'CP': 57170}\n",
            "{'primer': 'Juan', 'segundo': 'Pedro', 'materno': 'Perez', 'paterno': 'Gomez'}\n",
            "3\n",
            "dict_items([('num_cta', 303030303), ('carrera', 'Ingeniería en computación'), ('promedio', 9.8), ('materias', ['EDD', 'CyP', 'Calidad', 'Emprendimiento']), ('direccion', {'calle': 'rancho seco', 'numero': 23, 'delegacion': 'Neza', 'estado': {'id': 15, 'nombre': 'Estado de Máxico', 'nombre_corto': 'EdoMex'}, 'CP': 57170}), ('nombre_completo', {'primer': 'Juan', 'segundo': 'Pedro', 'materno': 'Perez', 'paterno': 'Gomez'}), ('semestre', 3)])\n",
            "el campo num_cta tiene el valor 303030303\n",
            "el campo carrera tiene el valor Ingeniería en computación\n",
            "el campo promedio tiene el valor 9.8\n",
            "el campo materias tiene el valor ['EDD', 'CyP', 'Calidad', 'Emprendimiento']\n",
            "el campo direccion tiene el valor {'calle': 'rancho seco', 'numero': 23, 'delegacion': 'Neza', 'estado': {'id': 15, 'nombre': 'Estado de Máxico', 'nombre_corto': 'EdoMex'}, 'CP': 57170}\n",
            "el campo nombre_completo tiene el valor {'primer': 'Juan', 'segundo': 'Pedro', 'materno': 'Perez', 'paterno': 'Gomez'}\n",
            "el campo semestre tiene el valor 3\n"
          ],
          "name": "stdout"
        }
      ]
    },
    {
      "cell_type": "code",
      "metadata": {
        "id": "8m7LPm-U08C5",
        "outputId": "a66f5f7c-cccf-43ad-b549-d13c8942140a",
        "colab": {
          "base_uri": "https://localhost:8080/",
          "height": 34
        }
      },
      "source": [
        "computadora = {\"procesador\": \"Intel i7\", \"ram\": \"Kingston 128Gb\"}\n",
        "otros= {\"Monitor\": \"LG 49\\\"\",\"Hd\":\"Toshiba 1TB\"}\n",
        "computadora.update(otros)\n",
        "print(computadora) "
      ],
      "execution_count": 4,
      "outputs": [
        {
          "output_type": "stream",
          "text": [
            "{'procesador': 'Intel i7', 'ram': 'Kingston 128Gb', 'Monitor': 'LG 49\"', 'Hd': 'Toshiba 1TB'}\n"
          ],
          "name": "stdout"
        }
      ]
    },
    {
      "cell_type": "markdown",
      "metadata": {
        "id": "99xksRTz2vOi"
      },
      "source": [
        "#Funciones\n",
        "- Unidades de codigo reutilizable\n",
        "\n",
        "- Es un mecanismo de organizacion de codigo\n",
        "\n",
        "- Una funcion toma de 0 a n parametros de entrada\n",
        "\n",
        "- Tiene una sola salida(Return) de cualquier tipo de dato\n",
        "\n",
        "- Solo puede hacer dos cosa:\n",
        " - Definirla\n",
        " - Llamarla\n",
        "- Se definen con la palbra reservada 'def' "
      ]
    },
    {
      "cell_type": "code",
      "metadata": {
        "id": "VY0kI9Xi3qkY",
        "outputId": "a21a0e8e-55e9-453d-fd12-6e6da4838b8d",
        "colab": {
          "base_uri": "https://localhost:8080/",
          "height": 153
        }
      },
      "source": [
        "\n",
        "def sumar(x,y):\n",
        "    resultado = x + y\n",
        "    return resultado\n",
        "\n",
        "def saludar(nombre):\n",
        "    print(f\"Hola {nombre}, ¿Cómo estas?\")\n",
        "    return None\n",
        "\n",
        "# procesar None \n",
        "def multiplicar(valor, veces):\n",
        "    if valor != None:\n",
        "        c=valor*veces\n",
        "    else:\n",
        "        c =\"Operación no valida\"\n",
        "    return c\n",
        "\n",
        "def operacion(a,b,c):\n",
        "    res = a+(b/c)\n",
        "    return res\n",
        "\n",
        "# valores por defecto\n",
        "# def comanda(primer, fuerte, postre):\n",
        "#    print(f\"De entrada pidio: {primer}\")\n",
        "#    print(f\"De plato de fuerte {fuerte}\")\n",
        "#    print(f\"Postre: {postre}\")\n",
        "\n",
        "print(sumar(10,4))\n",
        "print(sumar(5,12))\n",
        "# c = sumar(3,7)\n",
        "# print(c)\n",
        "saludar(\"Dany\")\n",
        "print(multiplicar(6,2))\n",
        "print(multiplicar(None,7))\n",
        "\n",
        "print(operacion(2,9,3))\n",
        "print(operacion(2,3,9))\n",
        "print(operacion(a=2,c=3,b=9))\n"
      ],
      "execution_count": 9,
      "outputs": [
        {
          "output_type": "stream",
          "text": [
            "14\n",
            "17\n",
            "Hola Dany, ¿Cómo estas?\n",
            "12\n",
            "Operación no valida\n",
            "5.0\n",
            "2.3333333333333335\n",
            "5.0\n"
          ],
          "name": "stdout"
        }
      ]
    },
    {
      "cell_type": "code",
      "metadata": {
        "id": "I5gDprHl-lt4",
        "outputId": "d7c96d49-6fd2-4295-e1e6-2bd9199fb4c1",
        "colab": {
          "base_uri": "https://localhost:8080/",
          "height": 272
        }
      },
      "source": [
        "# valores por defecto\n",
        "def comanda(primer, fuerte, postre=\"galletas de animalito\"):\n",
        "    print(f\"De entrada pidio: {primer}\")\n",
        "    print(f\"De plato de fuerte {fuerte}\")\n",
        "    print(f\"Postre: {postre}\")\n",
        "\n",
        "# argumentos posicionales con tuplas *\n",
        "def comanda_2(*opciones):\n",
        "    print(opciones)\n",
        "    print(f\"De entrada pidio: {opciones[0]}\")\n",
        "    print(f\"De plato de fuerte {opciones[1]}\")\n",
        "    print(f\"Postre: {opciones[2]}\")\n",
        "    print(\"\\nIndicaciones extra:\")\n",
        "    for ind in opciones[3::]:\n",
        "        print(f\"\\t {ind}\")\n",
        "\n",
        "comanda(\"sopa aguada\",\"tortas de papa\",\"gelatina de limon\")\n",
        "comanda(\"sopa aguada\",\"tortas de papa\") #valor por defecto de postre\n",
        "comanda_2(\"sopa aguada\",\"tortas de papa\",\"gelatina de limon\",\"las tortas bien doradas\",\"traer dos limones\",\"agua con hielo\")"
      ],
      "execution_count": 10,
      "outputs": [
        {
          "output_type": "stream",
          "text": [
            "De entrada pidio: sopa aguada\n",
            "De plato de fuerte tortas de papa\n",
            "Postre: gelatina de limon\n",
            "De entrada pidio: sopa aguada\n",
            "De plato de fuerte tortas de papa\n",
            "Postre: galletas de animalito\n",
            "('sopa aguada', 'tortas de papa', 'gelatina de limon', 'las tortas bien doradas', 'traer dos limones', 'agua con hielo')\n",
            "De entrada pidio: sopa aguada\n",
            "De plato de fuerte tortas de papa\n",
            "Postre: gelatina de limon\n",
            "\n",
            "Indicaciones extra:\n",
            "\t las tortas bien doradas\n",
            "\t traer dos limones\n",
            "\t agua con hielo\n"
          ],
          "name": "stdout"
        }
      ]
    },
    {
      "cell_type": "code",
      "metadata": {
        "id": "ItiEn63uB7nj",
        "outputId": "ecd274e8-1173-4f46-ef68-590a59454d23",
        "colab": {
          "base_uri": "https://localhost:8080/",
          "height": 156
        }
      },
      "source": [
        "# argumentos posicionales con diccionarios **\n",
        "def comanda_3(**opciones):\n",
        "    print(opciones) \n",
        "    for op in opciones.items():\n",
        "        print(f\"{op[0]}---> {op[1]}\")\n",
        "\n",
        "comanda_3(primer=\"sopa aguada\",fuerte=\"tortas de papa\",postre=\"gelatina de limon\",extra1=\"las tortas bien doradas\",extra2=\"traer dos limones\",extra3=\"agua con hielo\")"
      ],
      "execution_count": 13,
      "outputs": [
        {
          "output_type": "stream",
          "text": [
            "{'primer': 'sopa aguada', 'fuerte': 'tortas de papa', 'postre': 'gelatina de limon', 'extra1': 'las tortas bien doradas', 'extra2': 'traer dos limones', 'extra3': 'agua con hielo'}\n",
            "primer---> sopa aguada\n",
            "fuerte---> tortas de papa\n",
            "postre---> gelatina de limon\n",
            "extra1---> las tortas bien doradas\n",
            "extra2---> traer dos limones\n",
            "extra3---> agua con hielo\n"
          ],
          "name": "stdout"
        }
      ]
    }
  ]
}