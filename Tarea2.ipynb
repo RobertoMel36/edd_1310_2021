{
  "nbformat": 4,
  "nbformat_minor": 0,
  "metadata": {
    "colab": {
      "name": "Untitled2.ipynb",
      "provenance": [],
      "authorship_tag": "ABX9TyPbYy1bj3ZfLTtBTD4GxP7b",
      "include_colab_link": true
    },
    "kernelspec": {
      "name": "python3",
      "display_name": "Python 3"
    }
  },
  "cells": [
    {
      "cell_type": "markdown",
      "metadata": {
        "id": "view-in-github",
        "colab_type": "text"
      },
      "source": [
        "<a href=\"https://colab.research.google.com/github/RobertoMel36/edd_1310_2021/blob/master/Tarea2.ipynb\" target=\"_parent\"><img src=\"https://colab.research.google.com/assets/colab-badge.svg\" alt=\"Open In Colab\"/></a>"
      ]
    },
    {
      "cell_type": "code",
      "metadata": {
        "id": "UR8f8wo-_JwT",
        "outputId": "506c3337-82d4-49c7-ea15-0f28885b198f",
        "colab": {
          "base_uri": "https://localhost:8080/",
          "height": 221
        }
      },
      "source": [
        "archivo= open('Datos.txt','rt')\n",
        "sum_total = 0\n",
        "for line in archivo.readlines()[:20:1]:\n",
        "  sum_renglon = 0\n",
        "  for trunc in line.strip().split(\",\"):\n",
        "    sum_renglon += int(trunc)\n",
        "  sum_total += sum_renglon\n",
        "  print(sum_renglon)\n",
        "print(\"La suma de todos los numeros es: \")\n",
        "print(sum_total)\n",
        "archivo.close()"
      ],
      "execution_count": 29,
      "outputs": [
        {
          "output_type": "stream",
          "text": [
            "406\n",
            "367\n",
            "814\n",
            "391\n",
            "786\n",
            "513\n",
            "745\n",
            "585\n",
            "154\n",
            "220\n",
            "La suma de todos los numeros es: \n",
            "4981\n"
          ],
          "name": "stdout"
        }
      ]
    }
  ]
}