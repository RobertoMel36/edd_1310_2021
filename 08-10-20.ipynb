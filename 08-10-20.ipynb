{
  "nbformat": 4,
  "nbformat_minor": 0,
  "metadata": {
    "colab": {
      "name": "08-10-2020.ipynb",
      "provenance": [],
      "authorship_tag": "ABX9TyPkt0TVfYA3l6mEFKExCPwK",
      "include_colab_link": true
    },
    "kernelspec": {
      "name": "python3",
      "display_name": "Python 3"
    }
  },
  "cells": [
    {
      "cell_type": "markdown",
      "metadata": {
        "id": "view-in-github",
        "colab_type": "text"
      },
      "source": [
        "<a href=\"https://colab.research.google.com/github/RobertoMel36/edd_1310_2021/blob/master/08-10-20.ipynb\" target=\"_parent\"><img src=\"https://colab.research.google.com/assets/colab-badge.svg\" alt=\"Open In Colab\"/></a>"
      ]
    },
    {
      "cell_type": "code",
      "metadata": {
        "id": "czuScB-j_yEL",
        "outputId": "70258e7e-4741-4878-f59f-78ab3d6af759",
        "colab": {
          "base_uri": "https://localhost:8080/",
          "height": 105
        }
      },
      "source": [
        "monitores =[[\"Samsung\",\"17.3 \\\"\",1024],[\"BenQ\",\"40\\\"\",2048]]\n",
        "procesadores = [[\"Intel\",\"i7\",3.4],[\"AMD\",\"razzer\",3.3],[\"Intel\",\"i3\",3.1]]\n",
        "memorias = [[\"Kingston\", \"8GB\",\"DDR4\"],[\"Kingston\", \"16GB\",\"DDR3\"],[\"ADATA\", \"32GB\",\"DDR4\"]]\n",
        "\n",
        "componentes = [monitores,procesadores,memorias]\n",
        "print(componentes)\n",
        "print(int(componentes[0][1][2])*2)\n",
        "print(componentes[1][1][1][1:4])\n",
        "print(componentes[2][2][0].lower())"
      ],
      "execution_count": 17,
      "outputs": [
        {
          "output_type": "stream",
          "text": [
            "[[['Samsung', '17.3 \"', 1024], ['BenQ', '40\"', 2048]], [['Intel', 'i7', 3.4], ['AMD', 'razzer', 3.3], ['Intel', 'i3', 3.1]], [['Kingston', '8GB', 'DDR4'], ['Kingston', '16GB', 'DDR3'], ['ADATA', '32GB', 'DDR4']]]\n",
            "4096\n",
            "azz\n",
            "adata\n"
          ],
          "name": "stdout"
        }
      ]
    },
    {
      "cell_type": "code",
      "metadata": {
        "id": "73kg8tptH9jb",
        "outputId": "9acc1cc9-c476-4657-f52c-44707eefb342",
        "colab": {
          "base_uri": "https://localhost:8080/",
          "height": 241
        }
      },
      "source": [
        "#Copiar listas\n",
        "#Extender listas\n",
        "\n",
        "frutas=[\"manzana\",\"pera\"]\n",
        "otras_frutas= [\"Aguactae\",\"Sandia\"]\n",
        "\n",
        "frutas.append(otras_frutas)\n",
        "print(frutas)\n",
        "\n",
        "#+ sobre listas\n",
        "frutas = frutas + otras_frutas\n",
        "print(frutas)\n",
        "\n",
        "#función extend()\n",
        "frutas.extend(otras_frutas)\n",
        "print(frutas)\n",
        "\n",
        "frutas.append(otras_frutas)\n",
        "print(frutas)\n",
        "\n",
        "#copiar\n",
        "\n",
        "colores = [\"azul\",\"rojo\",\"verde\",\"violeta\"]\n",
        "otros_colores = colores\n",
        "print(colores)\n",
        "print(otros_colores)\n",
        "otros_colores.append(\"Rosa\")\n",
        "print(colores)\n",
        "print(otros_colores)\n",
        "\n",
        "una_mas = colores.copy()\n",
        "print(una_mas)\n",
        "una_mas.append(\"gris\")\n",
        "print(una_mas)\n",
        "print(colores)\n",
        "\n",
        "#Unpaking de listas\n",
        "\n",
        "alumno = [\"Jesus\",\"Perez\",\"Herrera\",22,\"ICO\",10.0]\n",
        "#nombre= alumno[0]\n",
        "#paterno= alumno[1] #Desenpaca el elemento deseado en una variable\n",
        "\n",
        "nombre,paterno,materno,edad,carrera,promedio = alumno\n",
        "print(f\"Alumno:{nombre} carrera: {carrera} promedio: {promedio}\")\n"
      ],
      "execution_count": 7,
      "outputs": [
        {
          "output_type": "stream",
          "text": [
            "['manzana', 'pera', ['Aguactae', 'Sandia']]\n",
            "['manzana', 'pera', ['Aguactae', 'Sandia'], 'Aguactae', 'Sandia']\n",
            "['manzana', 'pera', ['Aguactae', 'Sandia'], 'Aguactae', 'Sandia', 'Aguactae', 'Sandia']\n",
            "['manzana', 'pera', ['Aguactae', 'Sandia'], 'Aguactae', 'Sandia', 'Aguactae', 'Sandia', ['Aguactae', 'Sandia']]\n",
            "['azul', 'rojo', 'verde', 'violeta']\n",
            "['azul', 'rojo', 'verde', 'violeta']\n",
            "['azul', 'rojo', 'verde', 'violeta', 'Rosa']\n",
            "['azul', 'rojo', 'verde', 'violeta', 'Rosa']\n",
            "['azul', 'rojo', 'verde', 'violeta', 'Rosa']\n",
            "['azul', 'rojo', 'verde', 'violeta', 'Rosa', 'gris']\n",
            "['azul', 'rojo', 'verde', 'violeta', 'Rosa']\n",
            "Alumno:Jesus carrera: ICO promedio: 10.0\n"
          ],
          "name": "stdout"
        }
      ]
    },
    {
      "cell_type": "markdown",
      "metadata": {
        "id": "9bUKzEppSB5H"
      },
      "source": [
        "#Tuplas\n",
        "-Se declaran con()\n",
        "\n",
        "-Selector con[]\n",
        "\n",
        "-No son mutables"
      ]
    },
    {
      "cell_type": "code",
      "metadata": {
        "id": "wSg1Q5h7SMRc",
        "outputId": "80fa8633-4931-4570-c17d-7e72a1a62b1a",
        "colab": {
          "base_uri": "https://localhost:8080/",
          "height": 68
        }
      },
      "source": [
        "precios= (99.9,49.9,12.45,23.3,33.44,55.66)\n",
        "print(precios[1])\n",
        "#precios[1]= 50.0\n",
        "print(precios)\n",
        "print(precios[2:4])\n"
      ],
      "execution_count": 11,
      "outputs": [
        {
          "output_type": "stream",
          "text": [
            "49.9\n",
            "(99.9, 49.9, 12.45, 23.3, 33.44, 55.66)\n",
            "(12.45, 23.3)\n"
          ],
          "name": "stdout"
        }
      ]
    },
    {
      "cell_type": "markdown",
      "metadata": {
        "id": "_Xj8Ebv_TsF5"
      },
      "source": [
        "#Diccionarios\n",
        "-Se declara con{}\n",
        "\n",
        "-Si son mutables\n",
        "\n",
        "-Conjunto de pares llave: valor\n",
        "\n",
        "-Equivalente a los objetos Json de JavaScript\n",
        "\n",
        "-Selector ['']"
      ]
    },
    {
      "cell_type": "code",
      "metadata": {
        "id": "Eyb2ZS4GT8D_",
        "outputId": "a29ca2eb-28d0-4b8d-df0b-5831189c580a",
        "colab": {
          "base_uri": "https://localhost:8080/",
          "height": 139
        }
      },
      "source": [
        "cliente= {}\n",
        "print(cliente)\n",
        "alumno= {     \"num_cta\" : 317316230 }\n",
        "print(alumno)\n",
        "\n",
        "alumno = {\n",
        "          \"num_cta\" : 30302093, \n",
        "          \"carrera\": \"Ico\",\n",
        "          \"Promedio\": 9.8,\n",
        "          \"Materias\" : [\"EDD\", \"CyP\", \"Calidad\",\"Emprendimiento\"],\n",
        "          \"direccion\": {\n",
        "                        \"Calle\": \"rancho seco\",\n",
        "                        \"numero\" : 23,\n",
        "                        \"delegacion\" : \"Neza\",\n",
        "                        \"estado\": {\n",
        "                                   \"id\" : 15,\n",
        "                                   \"nombre\" : \"Establo de México\",\n",
        "                                   \"nombre_corto\" : \"Edo Mex\"\n",
        "\n",
        "                        },\n",
        "                        \"Cp\" : 57170\n",
        "          }\n",
        "          }\n",
        "\n",
        "\n",
        "print(alumno)\n",
        "print(alumno['Materias'])\n",
        "print(alumno['Promedio'])\n",
        "print(alumno['direccion']['estado']['nombre_corto'])"
      ],
      "execution_count": 19,
      "outputs": [
        {
          "output_type": "stream",
          "text": [
            "{}\n",
            "{'num_cta': 317316230}\n",
            "{'num_cta': 30302093, 'carrera': 'Ico', 'Promedio': 9.8, 'Materias': ['EDD', 'CyP', 'Calidad', 'Emprendimiento'], 'direccion': {'Calle': 'rancho seco', 'numero': 23, 'delegacion': 'Neza', 'estado': {'id': 15, 'nombre': 'Establo de México', 'nombre_corto': 'Edo Mex'}, 'Cp': 57170}}\n",
            "['EDD', 'CyP', 'Calidad', 'Emprendimiento']\n",
            "9.8\n",
            "Edo Mex\n"
          ],
          "name": "stdout"
        }
      ]
    }
  ]
}