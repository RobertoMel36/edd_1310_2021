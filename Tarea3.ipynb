{
  "nbformat": 4,
  "nbformat_minor": 0,
  "metadata": {
    "colab": {
      "name": "Tarea 3.ipynb",
      "provenance": [],
      "authorship_tag": "ABX9TyO9gk03OwCQ6FtPcpuWjj6P",
      "include_colab_link": true
    },
    "kernelspec": {
      "name": "python3",
      "display_name": "Python 3"
    }
  },
  "cells": [
    {
      "cell_type": "markdown",
      "metadata": {
        "id": "view-in-github",
        "colab_type": "text"
      },
      "source": [
        "<a href=\"https://colab.research.google.com/github/RobertoMel36/edd_1310_2021/blob/master/Tarea3.ipynb\" target=\"_parent\"><img src=\"https://colab.research.google.com/assets/colab-badge.svg\" alt=\"Open In Colab\"/></a>"
      ]
    },
    {
      "cell_type": "code",
      "metadata": {
        "id": "3XgxsXzqIiw1",
        "outputId": "24945145-9dea-4905-ac74-7037320a28ef",
        "colab": {
          "base_uri": "https://localhost:8080/",
          "height": 68
        }
      },
      "source": [
        "class Persona:\n",
        "  def __init__(self,n,e,es):\n",
        "    self.__nombre=n\n",
        "    self.__edad=e\n",
        "    self.__estatura=es\n",
        "\n",
        "  def dormir(self):\n",
        "    print(\"Yo estoy durmiendo\")\n",
        "\n",
        "  def comer(self):\n",
        "    print(\"Me estoy llendo a comer\")\n",
        "\n",
        "  def to_string(self):\n",
        "    return \"Nombre:\" +self.__nombre+ \"Edad:\" +self.__edad+ \"Estatura:\" +self.__estatura\n",
        "\n",
        "per = Persona(\"Roberto \", \"19 \",\"1.63 \")\n",
        "per.__nombre= \"Melx\"\n",
        "print(per.to_string())\n",
        "per.dormir()\n",
        "per.comer()"
      ],
      "execution_count": 35,
      "outputs": [
        {
          "output_type": "stream",
          "text": [
            "Nombre:Roberto Edad:19 Estatura:1.63 \n",
            "Yo estoy durmiendo\n",
            "Me estoy llendo a comer\n"
          ],
          "name": "stdout"
        }
      ]
    },
    {
      "cell_type": "code",
      "metadata": {
        "id": "PFy_VxSOKvQa",
        "outputId": "658a3c0c-94e7-4ca2-bfd6-4f4daeb3837f",
        "colab": {
          "base_uri": "https://localhost:8080/",
          "height": 68
        }
      },
      "source": [
        "class Celular:\n",
        "  def __init__(self, m, mo, em):\n",
        "    self.__marca=m\n",
        "    self.__modelo=mo\n",
        "    self.__espacio_de_memoria= em\n",
        "  \n",
        "  def llamar(self):\n",
        "    print(\"El telefono esta llamando\")\n",
        "  \n",
        "  def poner_alarma(self):\n",
        "    print(\"Se ha puesto la alarma\")\n",
        "  \n",
        "  def to_string(self):\n",
        "    return \"Marca:\" +self.__marca+ \"Modelo:\" +self.__modelo+ \"Espacio de memoria:\" +self.__espacio_de_memoria\n",
        "\n",
        "cel = Celular(\"Samsung \", \"S20 \", \"120 Gb \")\n",
        "cel.__marca= \"Sam\"\n",
        "print(cel.to_string())\n",
        "cel.llamar()\n",
        "cel.poner_alarma()"
      ],
      "execution_count": 34,
      "outputs": [
        {
          "output_type": "stream",
          "text": [
            "Marca:Samsung Modelo:S20 Espacio de memoria:120 Gb \n",
            "El telefono esta llamando\n",
            "Se ha puesto la alarma\n"
          ],
          "name": "stdout"
        }
      ]
    }
  ]
}