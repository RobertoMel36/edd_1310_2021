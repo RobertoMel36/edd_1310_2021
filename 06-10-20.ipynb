{
  "nbformat": 4,
  "nbformat_minor": 0,
  "metadata": {
    "colab": {
      "name": "06-10-20.ipynb",
      "provenance": [],
      "authorship_tag": "ABX9TyOHMzf86tMgyGbP+cLJN4Z/",
      "include_colab_link": true
    },
    "kernelspec": {
      "name": "python3",
      "display_name": "Python 3"
    }
  },
  "cells": [
    {
      "cell_type": "markdown",
      "metadata": {
        "id": "view-in-github",
        "colab_type": "text"
      },
      "source": [
        "<a href=\"https://colab.research.google.com/github/RobertoMel36/edd_1310_2021/blob/master/06-10-20.ipynb\" target=\"_parent\"><img src=\"https://colab.research.google.com/assets/colab-badge.svg\" alt=\"Open In Colab\"/></a>"
      ]
    },
    {
      "cell_type": "code",
      "metadata": {
        "id": "kande2DuqcL-",
        "outputId": "91423352-4639-4712-b2aa-bf02325c00bc",
        "colab": {
          "base_uri": "https://localhost:8080/",
          "height": 340
        }
      },
      "source": [
        "#String conttinuación\n",
        "\n",
        "numeros_txt = \"1, 2, 3, 4   , 5  , 35  , 15 , 12\"\n",
        "print(numeros_txt)\n",
        "numeros_txt = numeros_txt.lstrip().split(',')\n",
        "print(numeros_txt)\n",
        "\n",
        "for j in range(len(numeros_txt)):\n",
        "  numeros_txt[j] = int(numeros_txt[j].strip())\n",
        "\n",
        "print(numeros_txt)\n",
        "\n",
        "#funcion range()\n",
        "#range(inicio, top , incremento)\n",
        "print(range(1,10,3))\n",
        "rango = range(1,10, 2)\n",
        "\n",
        "for x in rango:\n",
        "  print(x)\n",
        "  \n",
        "  rango= range(10)\n",
        "  \n",
        "for x in rango:\n",
        "  print(x)"
      ],
      "execution_count": 12,
      "outputs": [
        {
          "output_type": "stream",
          "text": [
            "1, 2, 3, 4   , 5  , 35  , 15 , 12\n",
            "['1', ' 2', ' 3', ' 4   ', ' 5  ', ' 35  ', ' 15 ', ' 12']\n",
            "[1, 2, 3, 4, 5, 35, 15, 12]\n",
            "range(1, 10, 3)\n",
            "1\n",
            "3\n",
            "5\n",
            "7\n",
            "9\n",
            "0\n",
            "1\n",
            "2\n",
            "3\n",
            "4\n",
            "5\n",
            "6\n",
            "7\n",
            "8\n",
            "9\n"
          ],
          "name": "stdout"
        }
      ]
    },
    {
      "cell_type": "markdown",
      "metadata": {
        "id": "IfGBKUACxdC2"
      },
      "source": [
        "#Listas\n",
        "-mutables\n",
        "-declaran con[]\n",
        "-selector[int]\n",
        "-Pueden ser de cualquier tipo y mezclado\n",
        "\n",
        "#Tuplas\n",
        "-No mutables\n",
        "-Declaración con()\n",
        "-selectos[int]\n",
        "\n",
        "#Diccionarios\n",
        "-Son mutables\n",
        "-son conjunto de pares llave:valor\n",
        "-Equivalente a los Objetos JSon de JavaScritp\n",
        "\n",
        "#Conjuntos\n",
        "-representación de la teoría de conjuntos\n"
      ]
    },
    {
      "cell_type": "code",
      "metadata": {
        "id": "GiFXjooUyMRG",
        "outputId": "e34238b7-0794-47e8-9c7a-0f7f94ca015c",
        "colab": {
          "base_uri": "https://localhost:8080/",
          "height": 136
        }
      },
      "source": [
        "#Listas\n",
        "frutas = [\"Pera\", \"Manzana\", \"fresa\", \"Kiwi\", \"Naranja\"]\n",
        "print(frutas)\n",
        "cosas= [\"Cuaderno\", 2, 3.1416, True, False, [\"Rojo\", \"Azul\"]]\n",
        "print(cosas)\n",
        "frutas[2]=\"Fresa\"  #frutas[2]= frutas[2].capitalize()\n",
        "print(frutas)\n",
        "#Agregar a la lista\n",
        "frutas.append(\"Agauacate\")\n",
        "print(frutas)\n",
        "frutas.insert(2, \"Sandia\") #Dar la psocicion que se desea\n",
        "print(frutas)\n",
        "\n",
        "#Concatenar listas\n",
        "fecha= [\"06\", \"10\", \"2020\"] \n",
        "print (fecha)\n",
        "fecha_str = \"/\".join(fecha) #Establece la fecha con lo que tu asignes\n",
        "print(fecha_str)\n",
        "\n"
      ],
      "execution_count": 20,
      "outputs": [
        {
          "output_type": "stream",
          "text": [
            "['Pera', 'Manzana', 'fresa', 'Kiwi', 'Naranja']\n",
            "['Cuaderno', 2, 3.1416, True, False, ['Rojo', 'Azul']]\n",
            "['Pera', 'Manzana', 'Fresa', 'Kiwi', 'Naranja']\n",
            "['Pera', 'Manzana', 'Fresa', 'Kiwi', 'Naranja', 'Agauacate']\n",
            "['Pera', 'Manzana', 'Sandia', 'Fresa', 'Kiwi', 'Naranja', 'Agauacate']\n",
            "['06', '10', '2020']\n",
            "06=10=2020\n"
          ],
          "name": "stdout"
        }
      ]
    },
    {
      "cell_type": "code",
      "metadata": {
        "id": "tlv0ewNc3R5j",
        "outputId": "64eefe53-f0ee-451e-e33c-742f62191b2c",
        "colab": {
          "base_uri": "https://localhost:8080/",
          "height": 170
        }
      },
      "source": [
        "#Eliminar elementos\n",
        "cosas= [\"Cuaderno\", 2, 3.1416, True, False, [\"Rojo\", \"Azul\"]]\n",
        "print(cosas)\n",
        "cosas.append(\"Libro\")\n",
        "cosas.append(\"Lapiz\")\n",
        "print(cosas)\n",
        "algo = cosas.pop()\n",
        "print(cosas)\n",
        "algo = cosas.pop(2)\n",
        "print(cosas)\n",
        "print(algo)\n",
        "cosas.remove(2)\n",
        "print(cosas)\n",
        "\n",
        "\n",
        "#Vaciar una lista\n",
        "#cosas.clear()\n",
        "print(cosas)\n",
        "\n",
        "#Ordenar\n",
        "print(frutas)\n",
        "frutas.sort()\n",
        "print(frutas)\n"
      ],
      "execution_count": 30,
      "outputs": [
        {
          "output_type": "stream",
          "text": [
            "['Cuaderno', 2, 3.1416, True, False, ['Rojo', 'Azul']]\n",
            "['Cuaderno', 2, 3.1416, True, False, ['Rojo', 'Azul'], 'Libro', 'Lapiz']\n",
            "['Cuaderno', 2, 3.1416, True, False, ['Rojo', 'Azul'], 'Libro']\n",
            "['Cuaderno', 2, True, False, ['Rojo', 'Azul'], 'Libro']\n",
            "3.1416\n",
            "['Cuaderno', True, False, ['Rojo', 'Azul'], 'Libro']\n",
            "['Cuaderno', True, False, ['Rojo', 'Azul'], 'Libro']\n",
            "['Agauacate', 'Fresa', 'Kiwi', 'Manzana', 'Naranja', 'Pera', 'Sandia']\n",
            "['Agauacate', 'Fresa', 'Kiwi', 'Manzana', 'Naranja', 'Pera', 'Sandia']\n"
          ],
          "name": "stdout"
        }
      ]
    },
    {
      "cell_type": "code",
      "metadata": {
        "id": "QXt_8LPv7EQM",
        "outputId": "79f95a5b-4bc2-4d14-827e-f81ea7050f54",
        "colab": {
          "base_uri": "https://localhost:8080/",
          "height": 119
        }
      },
      "source": [
        "#Slicing\n",
        "cosas= [\"Cuaderno\", 2, 3.1416, True, False, [\"Rojo\", \"Azul\"]]\n",
        "print(cosas[3:5:1])\n",
        "print(cosas)\n",
        "print(cosas[0][3:6:1])\n",
        "\n",
        "numeros= [1,2,3,4,5,6,7,8,9,10,11,12,13,14,15]\n",
        "print(numeros[8:13])\n",
        "\n",
        "#Sustituir rebanadas\n",
        "\n",
        "numeros[8:13] =[-2,-2] #Metes los datos donde sustituiras y pones lo que vas a sustituir\n",
        "print(numeros)\n",
        "\n",
        "#Preguntar por existencia\n",
        "print(-2 in numeros) #Saber si existe algo en la lista"
      ],
      "execution_count": 44,
      "outputs": [
        {
          "output_type": "stream",
          "text": [
            "[True, False]\n",
            "['Cuaderno', 2, 3.1416, True, False, ['Rojo', 'Azul']]\n",
            "der\n",
            "[9, 10, 11, 12, 13]\n",
            "[1, 2, 3, 4, 5, 6, 7, 8, -2, -2, 14, 15]\n",
            "True\n"
          ],
          "name": "stdout"
        }
      ]
    },
    {
      "cell_type": "markdown",
      "metadata": {
        "id": "FSvCTOox-iAU"
      },
      "source": [
        "#Listas multi dimensión\n",
        "\n",
        "Listas dentro de listas\n"
      ]
    },
    {
      "cell_type": "code",
      "metadata": {
        "id": "eq9W2OsQ-pBc",
        "outputId": "87897d28-617f-4d25-e8ae-f76a0591c037",
        "colab": {
          "base_uri": "https://localhost:8080/",
          "height": 207
        }
      },
      "source": [
        "computadoras= [\"HP\", \"Mac book pro\", \"Mate book\", \"Lenovo legion\"]\n",
        "oss= [\"Windows 10\", \"Linux\", \"Android\", \"ios\"]\n",
        "\n",
        "computo= [computadoras, oss] #Mencionar dos o mas listas\n",
        "print(computo[0])\n",
        "print(computo[1])\n",
        "print(computo[0][2])\n",
        "print(computo[0][2][0:5])\n",
        "print(computo[0][3][5: :-1])\n",
        "print(computo[0][3][-8: :-1])\n",
        "print(\"Linux\" in computo[1])\n",
        "\n",
        "\n",
        "dbms= [[\"Mysql\", \"Open Source\", False] ,[\"MS SQL Server\", \"De paga\", True] ] \n",
        "computo.append(dbms)\n",
        "print(computo)\n",
        "print(computo[2][0][0])\n",
        "print(computo[2][1][1])"
      ],
      "execution_count": 58,
      "outputs": [
        {
          "output_type": "stream",
          "text": [
            "['HP', 'Mac book pro', 'Mate book', 'Lenovo legion']\n",
            "['Windows 10', 'Linux', 'Android', 'ios']\n",
            "Mate book\n",
            "Mate \n",
            "ovoneL\n",
            "ovoneL\n",
            "True\n",
            "[['HP', 'Mac book pro', 'Mate book', 'Lenovo legion'], ['Windows 10', 'Linux', 'Android', 'ios'], [['Mysql', 'Open Source', False], ['MS SQL Server', 'De paga', True]]]\n",
            "Mysql\n",
            "De paga\n"
          ],
          "name": "stdout"
        }
      ]
    }
  ]
}