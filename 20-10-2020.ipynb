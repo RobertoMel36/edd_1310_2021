{
  "nbformat": 4,
  "nbformat_minor": 0,
  "metadata": {
    "colab": {
      "name": "20-10-2020.ipynb",
      "provenance": [],
      "authorship_tag": "ABX9TyPCY05nZ+QoZ9uObrm+xMba",
      "include_colab_link": true
    },
    "kernelspec": {
      "name": "python3",
      "display_name": "Python 3"
    }
  },
  "cells": [
    {
      "cell_type": "markdown",
      "metadata": {
        "id": "view-in-github",
        "colab_type": "text"
      },
      "source": [
        "<a href=\"https://colab.research.google.com/github/RobertoMel36/edd_1310_2021/blob/master/20-10-2020.ipynb\" target=\"_parent\"><img src=\"https://colab.research.google.com/assets/colab-badge.svg\" alt=\"Open In Colab\"/></a>"
      ]
    },
    {
      "cell_type": "code",
      "metadata": {
        "id": "uuiEENdRyqLt",
        "outputId": "6698d8ef-e577-4369-e390-7a3b17005f0f",
        "colab": {
          "base_uri": "https://localhost:8080/",
          "height": 289
        }
      },
      "source": [
        "archivo = open('numeros.txt', 'rt')\n",
        "for linea in archivo.readlines():\n",
        "  for trunc in linea.split(','):\n",
        "    print(int(trunc.strip()))\n",
        "    "
      ],
      "execution_count": 38,
      "outputs": [
        {
          "output_type": "stream",
          "text": [
            "22\n",
            "23\n",
            "44\n",
            "55\n",
            "5\n",
            "44\n",
            "4\n",
            "5\n",
            "7\n",
            "7\n",
            "6\n",
            "5\n",
            "4\n",
            "3\n",
            "2\n",
            "1\n"
          ],
          "name": "stdout"
        }
      ]
    },
    {
      "cell_type": "markdown",
      "metadata": {
        "id": "THvcWe7H2who"
      },
      "source": [
        "#Sintaxis del for en python\n",
        "Dos versiones de for:\n",
        " \n",
        " 1.Range\n",
        " \n",
        " 2.In iterator\n"
      ]
    },
    {
      "cell_type": "code",
      "metadata": {
        "id": "NRCwH0K-3CQq",
        "outputId": "93a60490-2871-4140-8ad4-6346c23e0818",
        "colab": {
          "base_uri": "https://localhost:8080/",
          "height": 170
        }
      },
      "source": [
        "r= range(0,10,2)\n",
        "for x in r:\n",
        "  print(x)\n",
        "\n",
        "  colores = ['rojo', 'rosa', 'azul', 'fucsia']\n",
        "  \n",
        "for indice in range(0,len(colores),1): #FOr (indice =0;indice <4;indice++)\n",
        "    #print(colores[indice])\n",
        "    colores[indice]=colores[indice].upper()\n",
        "\n",
        "# for sobre un iterador\n",
        "\n",
        "for col in colores:\n",
        "  print(col)\n"
      ],
      "execution_count": 25,
      "outputs": [
        {
          "output_type": "stream",
          "text": [
            "0\n",
            "2\n",
            "4\n",
            "6\n",
            "8\n",
            "ROJO\n",
            "ROSA\n",
            "AZUL\n",
            "FUCSIA\n"
          ],
          "name": "stdout"
        }
      ]
    },
    {
      "cell_type": "markdown",
      "metadata": {
        "id": "9Yez1xFU796N"
      },
      "source": [
        "#Generadores\n",
        "\n",
        "[ \"hola\" valor for x in range(10) ] "
      ]
    },
    {
      "cell_type": "code",
      "metadata": {
        "id": "K2lcQ4Dj8YrU",
        "outputId": "5ad904e3-162e-49b1-b0a4-411775728ed7",
        "colab": {
          "base_uri": "https://localhost:8080/",
          "height": 34
        }
      },
      "source": [
        "lista=[ 0 for x in range(10) ]\n",
        "print(lista)"
      ],
      "execution_count": 32,
      "outputs": [
        {
          "output_type": "stream",
          "text": [
            "[0, 0, 0, 0, 0, 0, 0, 0, 0, 0]\n"
          ],
          "name": "stdout"
        }
      ]
    },
    {
      "cell_type": "code",
      "metadata": {
        "id": "_sxMCMPr-HFI",
        "outputId": "cacc4fc1-5c56-40c3-825f-1cd7f231c0cd",
        "colab": {
          "base_uri": "https://localhost:8080/",
          "height": 34
        }
      },
      "source": [
        "ren = 5\n",
        "col = 3\n",
        "lista = [ [0 for x in range(col) ] for x in range(ren) ]\n",
        "print (lista)"
      ],
      "execution_count": 37,
      "outputs": [
        {
          "output_type": "stream",
          "text": [
            "[[0, 0, 0], [0, 0, 0], [0, 0, 0], [0, 0, 0], [0, 0, 0]]\n"
          ],
          "name": "stdout"
        }
      ]
    },
    {
      "cell_type": "markdown",
      "metadata": {
        "id": "AsQghKDC_GNN"
      },
      "source": [
        "#Poo en python\n",
        "- clase\n",
        "- Creacion de objetos\n",
        "- Constructor\n",
        "- Encapsulamiento\n",
        "- Metodos\n",
        "- Atributos\n",
        "- Herencia\n"
      ]
    },
    {
      "cell_type": "code",
      "metadata": {
        "id": "fC7cZfo5_X7-",
        "outputId": "514142f6-4154-44e8-e624-3e037f4f6931",
        "colab": {
          "base_uri": "https://localhost:8080/",
          "height": 34
        }
      },
      "source": [
        "class Computadora:\n",
        "  def __init__(self,m,p):\n",
        "    self.__marca=m\n",
        "    self.__procesador=p\n",
        "\n",
        "  def to_string( self ):\n",
        "      return \"Marca:\"+self.__marca+\" Procesador:\"+self.__procesador\n",
        "\n",
        "mi_pc = Computadora(\"Tosiba\", \"Intel i7\")\n",
        "mi_pc.__marca=\"HP\"\n",
        "print(mi_pc.to_string())"
      ],
      "execution_count": 4,
      "outputs": [
        {
          "output_type": "stream",
          "text": [
            "Marca:Tosiba Procesador:Intel i7\n"
          ],
          "name": "stdout"
        }
      ]
    }
  ]
}