{
  "nbformat": 4,
  "nbformat_minor": 0,
  "metadata": {
    "colab": {
      "name": "15-10-2020.ipynb",
      "provenance": [],
      "authorship_tag": "ABX9TyNMXhTYCoIPeadcM9G+OW5+",
      "include_colab_link": true
    },
    "kernelspec": {
      "name": "python3",
      "display_name": "Python 3"
    }
  },
  "cells": [
    {
      "cell_type": "markdown",
      "metadata": {
        "id": "view-in-github",
        "colab_type": "text"
      },
      "source": [
        "<a href=\"https://colab.research.google.com/github/RobertoMel36/edd_1310_2021/blob/master/15-10-2020.ipynb\" target=\"_parent\"><img src=\"https://colab.research.google.com/assets/colab-badge.svg\" alt=\"Open In Colab\"/></a>"
      ]
    },
    {
      "cell_type": "markdown",
      "metadata": {
        "id": "57tPOOMrBzoo"
      },
      "source": [
        "#Modulos\n",
        "Son recursos reutilizables que contienen varias funciones que pueden ser importadas a tu código.\n"
      ]
    },
    {
      "cell_type": "code",
      "metadata": {
        "id": "Q0sBEidaCKlx",
        "outputId": "4f4a5b07-8950-49d8-92b5-f39c279021de",
        "colab": {
          "base_uri": "https://localhost:8080/",
          "height": 51
        }
      },
      "source": [
        "\"\"\"\n",
        "import mi_modulo\n",
        "x= mi_modulo.sumar(4 , 7)\n",
        "print(x)\n",
        "print(mi_modulo.multiplicar(3 , 5))\n",
        "\"\"\""
      ],
      "execution_count": 3,
      "outputs": [
        {
          "output_type": "stream",
          "text": [
            "11\n",
            "15\n"
          ],
          "name": "stdout"
        }
      ]
    },
    {
      "cell_type": "code",
      "metadata": {
        "id": "Imj7XzBvKR8v",
        "outputId": "9f4ed444-dad7-461c-eb16-731f6287a9ec",
        "colab": {
          "base_uri": "https://localhost:8080/",
          "height": 51
        }
      },
      "source": [
        "from mi_modulo import sumar, dividir\n",
        "print(sumar(4,7))\n",
        "print(dividir(14,7))"
      ],
      "execution_count": 6,
      "outputs": [
        {
          "output_type": "stream",
          "text": [
            "11\n",
            "2.0\n"
          ],
          "name": "stdout"
        }
      ]
    },
    {
      "cell_type": "code",
      "metadata": {
        "id": "EVRRoSofLNgk",
        "outputId": "5faf9b62-6760-4a8f-b063-87481138bd97",
        "colab": {
          "base_uri": "https://localhost:8080/",
          "height": 34
        }
      },
      "source": [
        "import mi_modulo as patito #Nombrar\n",
        "print(patito.sumar(4,6))"
      ],
      "execution_count": 5,
      "outputs": [
        {
          "output_type": "stream",
          "text": [
            "10\n"
          ],
          "name": "stdout"
        }
      ]
    },
    {
      "cell_type": "code",
      "metadata": {
        "id": "IL_HZEVTOBKb",
        "outputId": "7df4fcdc-2c15-4f8d-e5a7-811588a8568c",
        "colab": {
          "base_uri": "https://localhost:8080/",
          "height": 52
        }
      },
      "source": [
        "from joke_generator import generate\n",
        "\n",
        "generate()\n"
      ],
      "execution_count": 17,
      "outputs": [
        {
          "output_type": "execute_result",
          "data": {
            "application/vnd.google.colaboratory.intrinsic+json": {
              "type": "string"
            },
            "text/plain": [
              "\"People saying 'boo! to their friends has risen by 85% in the last year.... That's a frightening statistic.\""
            ]
          },
          "metadata": {
            "tags": []
          },
          "execution_count": 17
        }
      ]
    },
    {
      "cell_type": "markdown",
      "metadata": {
        "id": "Dma7N8kjSYef"
      },
      "source": [
        "#Archivos\n",
        "- Open (str, str)\n",
        "  1. Nombre o ruta del archivo\n",
        "  2. Dos caracteres\n",
        "    - modo de apertura del archivo(r, w,a)\n",
        "    - Formato del archivo (tob)"
      ]
    },
    {
      "cell_type": "code",
      "metadata": {
        "id": "5VI77l4tSxRJ"
      },
      "source": [
        "archivo = open(\"saludo.txt\", \"wt\")\n",
        "archivo.write(\"Hola mundo \\n Ola ke aze\")\n",
        "archivo.close()"
      ],
      "execution_count": 18,
      "outputs": []
    },
    {
      "cell_type": "code",
      "metadata": {
        "id": "jYOfL2UTUYlB",
        "outputId": "4feb1463-f0df-4ca9-fc2d-584147b1eb3f",
        "colab": {
          "base_uri": "https://localhost:8080/",
          "height": 136
        }
      },
      "source": [
        "otro = open('./sample_data/anscombe.json', \"rt\")\n",
        "datos = otro.read()\n",
        "#print(datos)\n",
        "otro.close()\n",
        "\n",
        "arch= open('frutas.txt', 'rt')\n",
        "data ='ppp'\n",
        "while (data != ''):\n",
        "  data = arch.readline()\n",
        "  print(data)\n",
        "arch.close()\n",
        "\n",
        "arch= open ('frutas.txt', 'rt')\n",
        "list_frutas = arch.readlines()\n",
        "print(list_frutas)\n",
        "arch.close()"
      ],
      "execution_count": 26,
      "outputs": [
        {
          "output_type": "stream",
          "text": [
            "manzana, pera, kiwi, aguacate\n",
            "\n",
            "limpon, naranja \n",
            "\n",
            "sanida, papaya\n",
            "\n",
            "['manzana, pera, kiwi, aguacate\\n', 'limpon, naranja \\n', 'sanida, papaya']\n"
          ],
          "name": "stdout"
        }
      ]
    }
  ]
}