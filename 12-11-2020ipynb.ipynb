{
  "nbformat": 4,
  "nbformat_minor": 0,
  "metadata": {
    "colab": {
      "name": "12-11-2020ipynb",
      "provenance": [],
      "authorship_tag": "ABX9TyM8z+4FCrgJAsy/WJuiMz1S",
      "include_colab_link": true
    },
    "kernelspec": {
      "name": "python3",
      "display_name": "Python 3"
    }
  },
  "cells": [
    {
      "cell_type": "markdown",
      "metadata": {
        "id": "view-in-github",
        "colab_type": "text"
      },
      "source": [
        "<a href=\"https://colab.research.google.com/github/RobertoMel36/edd_1310_2021/blob/master/12-11-2020ipynb.ipynb\" target=\"_parent\"><img src=\"https://colab.research.google.com/assets/colab-badge.svg\" alt=\"Open In Colab\"/></a>"
      ]
    },
    {
      "cell_type": "code",
      "metadata": {
        "id": "5KJ4v717gh4r",
        "outputId": "86dcd100-ac25-4ca3-ae7b-236dfa087c5f",
        "colab": {
          "base_uri": "https://localhost:8080/"
        }
      },
      "source": [
        "class Nodo:\n",
        "    def __init__( self , dato ):\n",
        "        self.dato = dato\n",
        "        self.siguiente = None\n",
        "\n",
        "#ejemplo 1\n",
        "a= Nodo(12)\n",
        "print(a.dato)\n",
        "print(a.siguiente)\n",
        "\n",
        "#Empieza agregar mas elementos\n",
        "#Ejemplo 2\n",
        "a.siguiente=Nodo(20)\n",
        "print(a.siguiente)\n",
        "#Ejemplo 3\n",
        "a.siguiente.siguiente= Nodo(30)\n",
        "\n",
        "#Ejemplo 4\n",
        "a.siguiente.siguiente.siguiente= Nodo(40)\n",
        "\n",
        "#Ejemplo 5\n",
        "a.siguiente.siguiente.siguiente.siguiente=Nodo(50)\n",
        "\n",
        "#Jemeplo 6\n",
        "#Eliminar Nodo 30\n",
        "a.siguiente.siguiente=a.siguiente.siguiente.siguiente\n",
        "\n",
        "#Ejemplo 7\n",
        "a.siguiente.siguiente.dato=45\n",
        "\n",
        "#Ejemplo 8 Insertar un dato entre dos.\n",
        "tmp= a.siguiente.siguiente.siguiente#Respaldo mi nodo 50, para que no se pierda\n",
        "a.siguiente.siguiente.siguiente=Nodo(48) #creo mi nuevo nodo\n",
        "a.siguiente.siguiente.siguiente.siguiente= tmp #vuelvo agregar mi nodo 50\n",
        "\n",
        "#Corrido Transversal\n",
        "curr_node=a\n",
        "print(curr_node.dato, \"==>\", end=\"\")\n",
        "while(curr_node.siguiente != None):\n",
        "    curr_node = curr_node.siguiente\n",
        "    print(curr_node.dato,\"==>\",end=\"\")\n",
        "print(\"\")"
      ],
      "execution_count": 21,
      "outputs": [
        {
          "output_type": "stream",
          "text": [
            "12\n",
            "None\n",
            "<__main__.Nodo object at 0x7f6cd57b5940>\n",
            "12 ==>20 ==>45 ==>48 ==>50 ==>\n"
          ],
          "name": "stdout"
        }
      ]
    },
    {
      "cell_type": "code",
      "metadata": {
        "id": "fTVMyeMBwSqy",
        "outputId": "495ec9c2-3f9f-426a-844d-273cd3f5dbc5",
        "colab": {
          "base_uri": "https://localhost:8080/"
        }
      },
      "source": [
        "class Nodo:\n",
        "    def __init__( self , dato  , sig=None ):\n",
        "        self.dato = dato\n",
        "        self.siguiente = sig\n",
        "\n",
        "# ejemplo 1\n",
        "a = Nodo( 10 )\n",
        "\n",
        "# ejemplo 2   RECONSTRUCCION\n",
        "a = Nodo(10 , Nodo(20) )\n",
        "\n",
        "a = Nodo(10 , Nodo(20, Nodo(30)) )\n",
        "\n",
        "a = Nodo(10 , Nodo(20, Nodo(30,Nodo(40,Nodo(50)))) )\n",
        "\n",
        "curr_node = a\n",
        "print(curr_node.dato , \"-->\" , end=\"\")\n",
        "while( curr_node.siguiente != None ):\n",
        "    curr_node = curr_node.siguiente\n",
        "    print(curr_node.dato, \"-->\" , end=\"\")\n",
        "print(\"\")\n"
      ],
      "execution_count": 22,
      "outputs": [
        {
          "output_type": "stream",
          "text": [
            "10 -->20 -->30 -->40 -->50 -->\n"
          ],
          "name": "stdout"
        }
      ]
    }
  ]
}