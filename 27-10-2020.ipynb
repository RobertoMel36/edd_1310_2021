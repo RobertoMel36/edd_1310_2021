{
  "nbformat": 4,
  "nbformat_minor": 0,
  "metadata": {
    "colab": {
      "name": "27-10-2020.ipynb",
      "provenance": [],
      "authorship_tag": "ABX9TyOnA1EHotdznUyQ3i7gmI1G",
      "include_colab_link": true
    },
    "kernelspec": {
      "name": "python3",
      "display_name": "Python 3"
    }
  },
  "cells": [
    {
      "cell_type": "markdown",
      "metadata": {
        "id": "view-in-github",
        "colab_type": "text"
      },
      "source": [
        "<a href=\"https://colab.research.google.com/github/RobertoMel36/edd_1310_2021/blob/master/27-10-2020.ipynb\" target=\"_parent\"><img src=\"https://colab.research.google.com/assets/colab-badge.svg\" alt=\"Open In Colab\"/></a>"
      ]
    },
    {
      "cell_type": "code",
      "metadata": {
        "id": "fLMI_0hmCBIk",
        "outputId": "c2816eb2-2f9e-4582-9c95-5a32c28f4ac8",
        "colab": {
          "base_uri": "https://localhost:8080/",
          "height": 68
        }
      },
      "source": [
        "class Computadora:\n",
        "    def __init__( self , m , p):\n",
        "        self.__marca = m\n",
        "        self.__procesador = p\n",
        "\n",
        "    def to_string( self ):\n",
        "        return \"MArca:\"+self.__marca+\" Procesador:\"+self.__procesador\n",
        "\n",
        "    def set_marca(self, m):\n",
        "      self.__marca= m \n",
        "\n",
        "    def get_marca(self):\n",
        "      return self.__marca\n",
        "\n",
        "    def set_procesador(self, p):\n",
        "      self.__procesador= p \n",
        "\n",
        "    def get_procesador(self):\n",
        "      return self.__procesador\n",
        "\n",
        "mi_pc = Computadora(\"Toshiba\",\"Intel i7\")\n",
        "print(mi_pc.to_string())\n",
        "mi_pc.__marca=\"HP \" #Intentando cambiar el valor privado\n",
        "mi_pc.set_marca(\"HP co.\")\n",
        "print(mi_pc.to_string())\n",
        "#print(mi_pc.__procesador)\n",
        "print(mi_pc.get_procesador())"
      ],
      "execution_count": 3,
      "outputs": [
        {
          "output_type": "stream",
          "text": [
            "MArca:Toshiba Procesador:Intel i7\n",
            "MArca:HP co. Procesador:Intel i7\n",
            "Intel i7\n"
          ],
          "name": "stdout"
        }
      ]
    },
    {
      "cell_type": "markdown",
      "metadata": {
        "id": "6iqNIJ_XEH0Q"
      },
      "source": [
        "#Encapsulamiento en python\n",
        "##Tradicional tipo Java\n",
        "- serAtribut(val) \n",
        "- getAtributo()\n",
        "##Estilo python\n",
        "UTILIZANDO DECORADORES\n",
        "- @property\n",
        "- @atributo.setter"
      ]
    },
    {
      "cell_type": "code",
      "metadata": {
        "id": "PKujq1lZHyHF",
        "outputId": "e14c46e1-d2a1-4501-a644-8e4b98f8ddfa",
        "colab": {
          "base_uri": "https://localhost:8080/",
          "height": 102
        }
      },
      "source": [
        "class computadora:\n",
        "  def __init__(self, m, p):\n",
        "    self.marca = m #Se manda a llamar el decorador @property\n",
        "    self.procesador = p #idem\n",
        "  \n",
        "  @property #Se declara como atributo privado y funciona como método get\n",
        "  def marca(self):\n",
        "    return self.__marca\n",
        "\n",
        "  @marca.setter\n",
        "  def marca(self, m):\n",
        "    print(\"En el setter de marca\")\n",
        "    self.__marca= m\n",
        "\n",
        "  @property\n",
        "  def procesador(self):\n",
        "    return self.__procesador\n",
        "\n",
        "  @procesador.setter\n",
        "  def procesador(self, p):\n",
        "    print(\"En el metodo set de procesador\")\n",
        "    self.__procesador= p\n",
        "\n",
        "  def to_string(self):\n",
        "    return 'Marca: ' + self.marca + 'Procesador: ' +self.procesador\n",
        "\n",
        "mi_pc2 = computadora(\"Mac book pro\", \"Intel i7\")\n",
        "print(mi_pc2.to_string())\n",
        "mi_pc2.marca =\"Dell\"\n",
        "print(mi_pc2.to_string())"
      ],
      "execution_count": 5,
      "outputs": [
        {
          "output_type": "stream",
          "text": [
            "En el setter de marca\n",
            "En el metodo set de procesador\n",
            "Marca: Mac book proProcesador: Intel i7\n",
            "En el setter de marca\n",
            "Marca: DellProcesador: Intel i7\n"
          ],
          "name": "stdout"
        }
      ]
    },
    {
      "cell_type": "code",
      "metadata": {
        "id": "EP_aY3iyQhSP",
        "outputId": "1eac7cbd-f4b8-4154-fdf1-fb4b8234a196",
        "colab": {
          "base_uri": "https://localhost:8080/",
          "height": 85
        }
      },
      "source": [
        "#Herencia, pasando las clase base a la declaración\n",
        "class ServidorEmpresarial(computadora):\n",
        "    def __init__(self):\n",
        "      print(\"Hola server\")\n",
        "\n",
        "server= ServidorEmpresarial()\n",
        "server.marca = \"Sun Micro Systems\"\n",
        "server.procesador= \"Inetl i7\"\n",
        "print(server.to_string())    "
      ],
      "execution_count": 8,
      "outputs": [
        {
          "output_type": "stream",
          "text": [
            "Hola server\n",
            "En el setter de marca\n",
            "En el metodo set de procesador\n",
            "Marca: Sun Micro SystemsProcesador: Inetl i7\n"
          ],
          "name": "stdout"
        }
      ]
    }
  ]
}