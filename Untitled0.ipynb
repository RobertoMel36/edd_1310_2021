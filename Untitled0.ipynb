{
  "nbformat": 4,
  "nbformat_minor": 0,
  "metadata": {
    "colab": {
      "name": "Untitled0.ipynb",
      "provenance": [],
      "authorship_tag": "ABX9TyM4l3kKXF6PQaQqcebjltxv",
      "include_colab_link": true
    },
    "kernelspec": {
      "name": "python3",
      "display_name": "Python 3"
    }
  },
  "cells": [
    {
      "cell_type": "markdown",
      "metadata": {
        "id": "view-in-github",
        "colab_type": "text"
      },
      "source": [
        "<a href=\"https://colab.research.google.com/github/RobertoMel36/edd_1310_2021/blob/master/Untitled0.ipynb\" target=\"_parent\"><img src=\"https://colab.research.google.com/assets/colab-badge.svg\" alt=\"Open In Colab\"/></a>"
      ]
    },
    {
      "cell_type": "code",
      "metadata": {
        "id": "LF9vJJobv6Ev",
        "outputId": "96ee36d2-9b8e-445c-cf43-fb064dfa5710",
        "colab": {
          "base_uri": "https://localhost:8080/",
          "height": 69
        }
      },
      "source": [
        "edad = 10\n",
        "print (edad)\n",
        "\n",
        "colores = ['rojo', 'azul', 'verde', 'morado', 'violeta' ]\n",
        "print (colores)\n",
        "colores[3]"
      ],
      "execution_count": 1,
      "outputs": [
        {
          "output_type": "stream",
          "text": [
            "10\n",
            "['rojo', 'azul', 'verde', 'morado', 'violeta']\n"
          ],
          "name": "stdout"
        },
        {
          "output_type": "execute_result",
          "data": {
            "application/vnd.google.colaboratory.intrinsic+json": {
              "type": "string"
            },
            "text/plain": [
              "'morado'"
            ]
          },
          "metadata": {
            "tags": []
          },
          "execution_count": 1
        }
      ]
    },
    {
      "cell_type": "code",
      "metadata": {
        "id": "9T39T-uzw6Ou",
        "outputId": "bfcfca61-ce6b-425b-cea4-41d63164a164",
        "colab": {
          "base_uri": "https://localhost:8080/",
          "height": 51
        }
      },
      "source": [
        "print(colores[3][2:4])\n",
        "nombre= \"Alberto\"\n",
        "print(nombre[0:4])"
      ],
      "execution_count": 3,
      "outputs": [
        {
          "output_type": "stream",
          "text": [
            "ra\n",
            "Albe\n"
          ],
          "name": "stdout"
        }
      ]
    },
    {
      "cell_type": "markdown",
      "metadata": {
        "id": "Ur5C_8LdxfuC"
      },
      "source": [
        "# **For en python**\n",
        "2 variantes\n",
        "\n",
        "1- j in range(ini,tope,incremento)\n",
        "\n",
        "2- in[iterador]"
      ]
    },
    {
      "cell_type": "code",
      "metadata": {
        "id": "rbJkoIM3xz10",
        "outputId": "563f2b4a-d05a-4464-9b0a-eea89cb93f03",
        "colab": {
          "base_uri": "https://localhost:8080/",
          "height": 102
        }
      },
      "source": [
        "for j in range (0,5,1):\n",
        "  print(colores[j])"
      ],
      "execution_count": 4,
      "outputs": [
        {
          "output_type": "stream",
          "text": [
            "rojo\n",
            "azul\n",
            "verde\n",
            "morado\n",
            "violeta\n"
          ],
          "name": "stdout"
        }
      ]
    },
    {
      "cell_type": "code",
      "metadata": {
        "id": "A8gDEnsyy-wg",
        "outputId": "c96af17c-ddbe-4b8b-aeb3-30e04f8cc8a1",
        "colab": {
          "base_uri": "https://localhost:8080/",
          "height": 102
        }
      },
      "source": [
        "for color in colores:\n",
        "  print (color[0])"
      ],
      "execution_count": 5,
      "outputs": [
        {
          "output_type": "stream",
          "text": [
            "r\n",
            "a\n",
            "v\n",
            "m\n",
            "v\n"
          ],
          "name": "stdout"
        }
      ]
    },
    {
      "cell_type": "code",
      "metadata": {
        "id": "Wc1UrgcozMo0",
        "outputId": "18527648-4e67-48fa-99c6-6045262639b7",
        "colab": {
          "base_uri": "https://localhost:8080/",
          "height": 136
        }
      },
      "source": [
        "for j in range (0,len(nombre),1):\n",
        "  print(nombre[j])"
      ],
      "execution_count": 6,
      "outputs": [
        {
          "output_type": "stream",
          "text": [
            "A\n",
            "l\n",
            "b\n",
            "e\n",
            "r\n",
            "t\n",
            "o\n"
          ],
          "name": "stdout"
        }
      ]
    },
    {
      "cell_type": "code",
      "metadata": {
        "id": "vqH-a05azdOc",
        "outputId": "eed10d70-7a14-443b-9ee7-6687723d4795",
        "colab": {
          "base_uri": "https://localhost:8080/",
          "height": 136
        }
      },
      "source": [
        "for nom in nombre:\n",
        "  print(nom)"
      ],
      "execution_count": 7,
      "outputs": [
        {
          "output_type": "stream",
          "text": [
            "A\n",
            "l\n",
            "b\n",
            "e\n",
            "r\n",
            "t\n",
            "o\n"
          ],
          "name": "stdout"
        }
      ]
    },
    {
      "cell_type": "markdown",
      "metadata": {
        "id": "g0aG4H8iz0f0"
      },
      "source": [
        "# **¿Qué es markdown?**\n",
        "Markdown es un lenguaje de marcado para documentar código. El objetivo es simplificar la escritura del lenguaje HTML.\n",
        "\n",
        "___\n",
        "---\n",
        "**negritas**[Toy´ triste]\n",
        "\n",
        "![Tumba](https://www.combogamer.com/wp-content/uploads/2014/07/La-tumba-de-la-luciernagas-slider-1155x770.jpg)"
      ]
    }
  ]
}